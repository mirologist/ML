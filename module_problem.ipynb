{
  "nbformat": 4,
  "nbformat_minor": 0,
  "metadata": {
    "colab": {
      "name": "module_problem.ipynb",
      "provenance": [],
      "toc_visible": true
    },
    "kernelspec": {
      "name": "python3",
      "display_name": "Python 3"
    }
  },
  "cells": [
    {
      "cell_type": "markdown",
      "metadata": {
        "id": "88Q-DIjCHt_s",
        "colab_type": "text"
      },
      "source": [
        "## Colab features you might need"
      ]
    },
    {
      "cell_type": "markdown",
      "metadata": {
        "id": "MeaMcZyfCs32",
        "colab_type": "text"
      },
      "source": [
        "### How to save notebooks"
      ]
    },
    {
      "cell_type": "markdown",
      "metadata": {
        "id": "7y2c6hf2Cys5",
        "colab_type": "text"
      },
      "source": [
        "Use menu \"File\" to initiate saving\n",
        "\n",
        "![](https://raw.githubusercontent.com/kauMLstudent/ml_problems/master/img/save_menu.png)"
      ]
    },
    {
      "cell_type": "markdown",
      "metadata": {
        "id": "-gwlC2WvDVtZ",
        "colab_type": "text"
      },
      "source": [
        "![](https://raw.githubusercontent.com/kauMLstudent/ml_problems/master/img/lp.png)\n",
        "\n",
        "![](https://raw.githubusercontent.com/kauMLstudent/ml_problems/master/img/login_if_needed.png)"
      ]
    },
    {
      "cell_type": "markdown",
      "metadata": {
        "id": "1lWyjjo9DqQG",
        "colab_type": "text"
      },
      "source": [
        "1. Check the repository name \"kauMLstudent/ml_problems\"\n",
        "2. Check the branch name \"master\"\n",
        "3. Choose some filename. Watch filenames not to overlap! Since there is one account for all,please be careful not to destroy someone else's results.\n",
        "4. Give a meaningful name to commit, this may help to find it in future.\n",
        "\n",
        "![](https://raw.githubusercontent.com/kauMLstudent/ml_problems/master/img/commit.png)"
      ]
    },
    {
      "cell_type": "markdown",
      "metadata": {
        "id": "w4xqn09uGqjy",
        "colab_type": "text"
      },
      "source": [
        "### How to download and upload"
      ]
    },
    {
      "cell_type": "markdown",
      "metadata": {
        "id": "DIiXnGmMGuMy",
        "colab_type": "text"
      },
      "source": [
        "Use the side panel to upload data to colab if needed\n",
        "\n",
        "![](https://raw.githubusercontent.com/kauMLstudent/ml_problems/master/img/upload.png)"
      ]
    },
    {
      "cell_type": "markdown",
      "metadata": {
        "id": "3Pv4IdNpHYuf",
        "colab_type": "text"
      },
      "source": [
        "Use the side panel and right-click menu to download data from colab if needed\n",
        "\n",
        "![](https://raw.githubusercontent.com/kauMLstudent/ml_problems/master/img/download.png)"
      ]
    },
    {
      "cell_type": "markdown",
      "metadata": {
        "id": "QnLfRgZ_FU5U",
        "colab_type": "text"
      },
      "source": [
        "### How to archive files"
      ]
    },
    {
      "cell_type": "markdown",
      "metadata": {
        "id": "Xn3pLrPWFYpK",
        "colab_type": "text"
      },
      "source": [
        "Textual data may be overwhelming in size.\n",
        "Consider using archives for download-upload.\n",
        "\n",
        "1. Use \n",
        "```python\n",
        "!7z e filename.7z\n",
        "```\n",
        "to extract files.\n",
        "2. Use \n",
        "```python\n",
        "!7z a archive_name.7z file_name\n",
        "```\n",
        "to add files to archive"
      ]
    },
    {
      "cell_type": "markdown",
      "metadata": {
        "id": "DwRyief4HyQv",
        "colab_type": "text"
      },
      "source": [
        "## Datasets I have slightly processed"
      ]
    },
    {
      "cell_type": "markdown",
      "metadata": {
        "id": "-W9-PGS6mylJ",
        "colab_type": "text"
      },
      "source": [
        "### Load data, year 2016"
      ]
    },
    {
      "cell_type": "markdown",
      "metadata": {
        "id": "ZpXwSiH849Zt",
        "colab_type": "text"
      },
      "source": [
        "All data was taken from [Регіональні дані ЗНО-2016](https://zno.testportal.com.ua/stat/2016).\n",
        "See links to 7z archive there if you want to donload data from the original source."
      ]
    },
    {
      "cell_type": "code",
      "metadata": {
        "id": "m6ibFneLb3gj",
        "colab_type": "code",
        "colab": {}
      },
      "source": [
        "!curl -O https://raw.githubusercontent.com/fbeilstein/machine_learning/master/datasets/zno_2016.7z\n",
        "!7z e zno_2016.7z"
      ],
      "execution_count": 0,
      "outputs": []
    },
    {
      "cell_type": "markdown",
      "metadata": {
        "id": "hvfaJi8p4hrE",
        "colab_type": "text"
      },
      "source": [
        "Column name| Explanation (from zno site)\n",
        "---|---\n",
        "OutID|  \tID\n",
        "Birth|\tРік народження\n",
        "SexTypeName| \tСтать\n",
        "Regname| \tРегіон реєстрації/проживання учасника\n",
        "AreaName| \tРайон\\Місто реєстрації/проживання учасника\n",
        "TerName| \tНаселений пункт реєстрації/проживання учасника\n",
        "RegTypeName|\tСтатус учасника\n",
        "EOName| \tНавчальний заклад учасника\n",
        "EOTypeName| \tТип навчального закладу\n",
        "EORegName| \tРегіон, де розташований навчальний заклад\n",
        "EOAreaName| \tРайон\\Місто, де розташований навчальний заклад\n",
        "EOTerName|\tНаселений пункт, де розташований навчальний заклад\n",
        "EOParent|\tОрган, якому підпорядкувується навчальний заклад"
      ]
    },
    {
      "cell_type": "markdown",
      "metadata": {
        "id": "9RCN9k_l4rU-",
        "colab_type": "text"
      },
      "source": [
        "**Names of columns corresponding to subjects are generated as PREFIX+column name.**\n",
        "\n",
        "Use tables below for reference.\n",
        "\n",
        "Prefixed column name | Explanation\n",
        "---|---\n",
        "**PREFIX**Test|\tНазва навчального предмета\n",
        "**PREFIX**Lang|\tМова складання тесту\n",
        "**PREFIX**TestStatus|\tРезультат складання тесту\n",
        "**PREFIX**Ball100|\tОцінка за шкалою 100-200\n",
        "**PREFIX**Ball12|\tОцінка за ДПА\n",
        "**PREFIX**PTName|\tПункт проведення ЗНО\n",
        "**PREFIX**PTRegName|\tРегіон, де розташований пункт проведення ЗНО\n",
        "**PREFIX**PTAreaName|\tРайон\\Місто, де розташований пункт проведення ЗНО\n",
        "**PREFIX**PTTerName|\tНаселений пункт, де розташований пункт проведення ЗНО\n",
        "\n",
        "PREFIX | Subject\n",
        "---|---\n",
        "Ukr|\tУкраїнська мова і література\n",
        "Hist|\tІсторія України\n",
        "Math|\tМатематика\n",
        "Phys|\tФізика\n",
        "Chem|\tХімія\n",
        "Bio|\tБіологія\n",
        "Geo|\tГеографія\n",
        "Eng|\tАнглійська мова\n",
        "Fr|\tФранцузька мова\n",
        "Deu|\tНімецька мова\n",
        "Sp|\tІспанська мова\n",
        "Rus|\tРосійська мова"
      ]
    },
    {
      "cell_type": "markdown",
      "metadata": {
        "id": "_j3gwePmnCpI",
        "colab_type": "text"
      },
      "source": [
        "### Load data, year 2017"
      ]
    },
    {
      "cell_type": "markdown",
      "metadata": {
        "colab_type": "text",
        "id": "LAAa3RdE5lHM"
      },
      "source": [
        "All data was taken from [Регіональні дані ЗНО-2017](https://zno.testportal.com.ua/stat/2017).\n",
        "See links to 7z archive there if you want to donload data from the original source."
      ]
    },
    {
      "cell_type": "code",
      "metadata": {
        "id": "kV2DTlRam8Xi",
        "colab_type": "code",
        "colab": {}
      },
      "source": [
        "!curl -O https://raw.githubusercontent.com/fbeilstein/machine_learning/master/datasets/zno_2017.7z\n",
        "!7z e zno_2017.7z"
      ],
      "execution_count": 0,
      "outputs": []
    },
    {
      "cell_type": "markdown",
      "metadata": {
        "id": "rhB5jTmp3yn9",
        "colab_type": "text"
      },
      "source": [
        "Column name| Explanation (from zno site)\n",
        "---|---\n",
        "OUTID|  \tID\n",
        "BIRTH|\tРік народження\n",
        "SEXTYPENAME| \tСтать\n",
        "REGNAME| \tРегіон реєстрації/проживання учасника\n",
        "AREANAME| \tРайон\\Місто реєстрації/проживання учасника\n",
        "TERNAME| \tНаселений пункт реєстрації/проживання учасника\n",
        "REGTYPENAME|\tСтатус учасника\n",
        "TERTYPENAME|\tТип території\n",
        "CLASSPROFILENAME|\tПрофіль навчання учасника\n",
        "CLASSREGNAME|\tМова навчання  учасника\n",
        "EONAME| \tНавчальний заклад учасника\n",
        "EOTYPENAME| \tТип навчального закладу\n",
        "EOREGNAME| \tРегіон, де розташований навчальний заклад\n",
        "EOAREANAME| \tРайон\\Місто, де розташований навчальний заклад\n",
        "EOTERNAME|\tНаселений пункт, де розташований навчальний заклад\n",
        "EOPARENT|\tОрган, якому підпорядкувується навчальний заклад"
      ]
    },
    {
      "cell_type": "markdown",
      "metadata": {
        "id": "xbS7ZEnL3_yk",
        "colab_type": "text"
      },
      "source": [
        "**Names of columns corresponding to subjects are generated as PREFIX+column name.**\n",
        "\n",
        "Use tables below for reference.\n",
        "Note: not all subjects may have LANG.\n",
        "\n",
        "Prefixed column name | Explanation\n",
        "---|---\n",
        "**PREFIX**TEST|\tНазва навчального предмета\n",
        "**PREFIX**LANG|\tМова складання тесту\n",
        "**PREFIX**TESTSTATUS|\tРезультат складання тесту\n",
        "**PREFIX**BALL100|\tОцінка за шкалою 100-200\n",
        "**PREFIX**BALL12|\tОцінка за ДПА\n",
        "**PREFIX**PTNAME|\tПункт проведення ЗНО\n",
        "**PREFIX**PTREGNAME|\tРегіон, де розташований пункт проведення ЗНО\n",
        "**PREFIX**PTAREANAME|\tРайон\\Місто, де розташований пункт проведення ЗНО\n",
        "**PREFIX**PTTERNAME|\tНаселений пункт, де розташований пункт проведення ЗНО\n",
        "\n",
        "PREFIX | Subject\n",
        "---|---\n",
        "UKR|\tУкраїнська мова і література\n",
        "HIST|\tІсторія України\n",
        "MATH|\tМатематика\n",
        "PHYS|\tФізика\n",
        "CHEM|\tХімія\n",
        "BIO|\tБіологія\n",
        "GEO|\tГеографія\n",
        "ENG|\tАнглійська мова\n",
        "FR|\tФранцузька мова\n",
        "DEU|\tНімецька мова\n",
        "SP|\tІспанська мова\n",
        "RUS|\tРосійська МОВА"
      ]
    },
    {
      "cell_type": "markdown",
      "metadata": {
        "id": "8j9V0sRunD_4",
        "colab_type": "text"
      },
      "source": [
        "### Load data, year 2018"
      ]
    },
    {
      "cell_type": "markdown",
      "metadata": {
        "colab_type": "text",
        "id": "0t00Ar5P5l0o"
      },
      "source": [
        "All data was taken from [Регіональні дані ЗНО-2018](https://zno.testportal.com.ua/stat/2018).\n",
        "See links to 7z archive there if you want to donload data from the original source."
      ]
    },
    {
      "cell_type": "code",
      "metadata": {
        "id": "Maxd89rdm84h",
        "colab_type": "code",
        "colab": {}
      },
      "source": [
        "!curl -O https://raw.githubusercontent.com/fbeilstein/machine_learning/master/datasets/zno_2018.7z\n",
        "!7z e zno_2018.7z"
      ],
      "execution_count": 0,
      "outputs": []
    },
    {
      "cell_type": "markdown",
      "metadata": {
        "id": "GURtBCXF27sM",
        "colab_type": "text"
      },
      "source": [
        "Column name| Explanation (from zno site)\n",
        "---|---\n",
        "OutID|  \tID\n",
        "Birth|\tРік народження\n",
        "SexTypeName| \tСтать\n",
        "Regname| \tРегіон реєстрації/проживання учасника\n",
        "AreaName| \tРайон/Місто реєстрації/проживання учасника\n",
        "TerName| \tНаселений пункт реєстрації/проживання учасника\n",
        "RegTypeName|\tСтатус учасника\n",
        "TerTypeName|\tТип території\n",
        "ClassProfileName|\tПрофіль навчання учасника\n",
        "ClassRegName|\tМова навчання  учасника\n",
        "EOName| \tЗаклад освіти учасника\n",
        "EOTypeName| \tТип закладу освіти \n",
        "EORegName| \tРегіон, де розташований заклад освіти \n",
        "EOAreaName| \tРайон/Місто, де розташований заклад освіти \n",
        "EOTerName|\tНаселений пункт, де розташований заклад освіти \n",
        "EOParent|\tОрган, якому підпорядковується Заклад освіти "
      ]
    },
    {
      "cell_type": "markdown",
      "metadata": {
        "id": "4N9tCHVh3PV0",
        "colab_type": "text"
      },
      "source": [
        "**Names of columns corresponding to subjects are generated as PREFIX+column name.**\n",
        "\n",
        "Use tables below for reference.\n",
        "Note: not all subjects may have DPALevel.\n",
        "\n",
        "Prefixed column name | Explanation\n",
        "---|---\n",
        "**PREFIX**Test|\tНазва навчального предмета\n",
        "**PREFIX**Lang|\tМова складання тесту\n",
        "**PREFIX**TestStatus|\tРезультат складання тесту\n",
        "**PREFIX**DPALevel|\tРівень складності завдань ДПА\n",
        "**PREFIX**Ball100|\tОцінка за шкалою 100-200\n",
        "**PREFIX**Ball12|\tОцінка за ДПА\n",
        "**PREFIX**Ball|\tТестовий бал\n",
        "**PREFIX**PTName|\tПункт проведення ЗНО\n",
        "**PREFIX**PTRegName|\tРегіон, де розташований пункт проведення ЗНО\n",
        "**PREFIX**PTAreaName|\tРайон\\Місто, де розташований пункт проведення ЗНО\n",
        "**PREFIX**PTTerName|\tНаселений пункт, де розташований пункт проведення ЗНО\n",
        "\n",
        "PREFIX | Subject\n",
        "---|---\n",
        "Ukr|\tУкраїнська мова і література\n",
        "Hist|\tІсторія України\n",
        "Math|\tМатематика\n",
        "Phys|\tФізика\n",
        "Chem|\tХімія\n",
        "Bio|\tБіологія\n",
        "Geo|\tГеографія\n",
        "Eng|\tАнглійська мова\n",
        "Fr|\tФранцузька мова\n",
        "Deu|\tНімецька мова\n",
        "Sp|\tІспанська мова"
      ]
    },
    {
      "cell_type": "markdown",
      "metadata": {
        "id": "mf8rg3IynFqo",
        "colab_type": "text"
      },
      "source": [
        "### Load data, year 2019"
      ]
    },
    {
      "cell_type": "markdown",
      "metadata": {
        "colab_type": "text",
        "id": "JVWbsLyu5mVx"
      },
      "source": [
        "All data was taken from [Регіональні дані ЗНО-2019](https://zno.testportal.com.ua/stat/2019).\n",
        "See links to 7z archive there if you want to donload data from the original source."
      ]
    },
    {
      "cell_type": "code",
      "metadata": {
        "id": "Tc1HoYYkm9Q4",
        "colab_type": "code",
        "colab": {}
      },
      "source": [
        "!curl -O https://raw.githubusercontent.com/fbeilstein/machine_learning/master/datasets/zno_2019.7z\n",
        "!7z e zno_2019.7z"
      ],
      "execution_count": 0,
      "outputs": []
    },
    {
      "cell_type": "markdown",
      "metadata": {
        "id": "JpOjGNys1MxA",
        "colab_type": "text"
      },
      "source": [
        "Column name| Explanation (from zno site)\n",
        "---|---\n",
        "OutID|  \tID\n",
        "Birth|\tРік народження\n",
        "SexTypeName| \tСтать\n",
        "Regname| \tРегіон реєстрації/проживання учасника\n",
        "AreaName| \tРайон/Місто реєстрації/проживання учасника\n",
        "TerName| \tНаселений пункт реєстрації/проживання учасника\n",
        "RegTypeName|\tСтатус учасника\n",
        "TerTypeName|\tТип території\n",
        "ClassProfileName|\tПрофіль навчання учасника/ОКР, який учасник здобуває\n",
        "ClassLangName|\tМова навчання  учасника\n",
        "EOName| \tЗаклад освіти учасника\n",
        "EOTypeName| \tТип закладу освіти \n",
        "EORegName| \tРегіон, де розташований заклад освіти \n",
        "EOAreaName| \tРайон/Місто, де розташований заклад освіти \n",
        "EOTerName|\tНаселений пункт, де розташований заклад освіти \n",
        "EOParent|\tОрган, якому підпорядковується заклад освіти"
      ]
    },
    {
      "cell_type": "markdown",
      "metadata": {
        "id": "qZ2l_QEdVOU-",
        "colab_type": "text"
      },
      "source": [
        "**Column \"UkrAdaptScale\" contains information whether adaptation is needed.**\n",
        "\n",
        "UkrAdaptScale|\tУстановлення адаптивного порога\n",
        "---|---\n",
        "0|\tне потребує\n",
        "3|\tпотребує (угорська мова навчання)\n",
        "4|\tпотребує (молдовська мова навчання)\n",
        "7|\tпотребує (румунська мова навчання)"
      ]
    },
    {
      "cell_type": "markdown",
      "metadata": {
        "id": "FYlXoXK-2GeN",
        "colab_type": "text"
      },
      "source": [
        "**Names of columns corresponding to subjects are generated as PREFIX+column name.**\n",
        "\n",
        "Use tables below for reference.\n",
        "Note: not all subjects may have DPALevel.\n",
        "\n",
        "Prefixed column name | Explanation\n",
        "---|---\n",
        "**PREFIX**Test|\tНазва навчального предмета\n",
        "**PREFIX**Lang|\tМова складання тесту\n",
        "**PREFIX**TestStatus|\tРезультат складання тесту\n",
        "**PREFIX**DPALevel|\tРівень складності завдань ДПА\n",
        "**PREFIX**Ball100|\tОцінка за шкалою 100-200\n",
        "**PREFIX**Ball12|\tОцінка за ДПА\n",
        "**PREFIX**Ball|\tТестовий бал\n",
        "**PREFIX**PTName|\tПункт проведення ЗНО\n",
        "**PREFIX**PTRegName|\tРегіон, де розташований пункт проведення ЗНО\n",
        "**PREFIX**PTAreaName|\tРайон\\Місто, де розташований пункт проведення ЗНО\n",
        "**PREFIX**PTTerName|\tНаселений пункт, де розташований пункт проведення ЗНО\n",
        "\n",
        "**PREFIX** | Subject\n",
        "---|---\n",
        "Ukr|\tУкраїнська мова і література\n",
        "Hist|\tІсторія України\n",
        "Math|\tМатематика\n",
        "Phys|\tФізика\n",
        "Chem|\tХімія\n",
        "Bio|\tБіологія\n",
        "Geo|\tГеографія\n",
        "Eng|\tАнглійська мова\n",
        "Fr|\tФранцузька мова\n",
        "Deu|\tНімецька мова\n",
        "Sp|\tІспанська мова"
      ]
    }
  ]
}